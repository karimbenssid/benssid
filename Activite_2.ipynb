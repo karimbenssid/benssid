{
 "cells": [
  {
   "cell_type": "markdown",
   "metadata": {},
   "source": [
    "# Données en table, traitement et agrégation\n",
    "***\n",
    "# Activité 2 - Format de données CSV"
   ]
  },
  {
   "cell_type": "markdown",
   "metadata": {},
   "source": [
    "|Thème|Durée|truc|\n",
    "|:---:|:----:|:----:|\n",
    "|Format CSV|10min|à compléter|\n",
    "\n",
    "|Organisation du travail|\n",
    "|:-------------------------|\n",
    "|- prendre connaissance du problème|\n",
    "|- analyser la structure des fichers .csv|\n",
    "        \n",
    "***"
   ]
  },
  {
   "cell_type": "markdown",
   "metadata": {},
   "source": [
    "***\n",
    "# Situation - Problème \n",
    "\n",
    "On s'interessera ici à la consommation d'électricité dans cinq secteurs : l'industrie, l'agriculture, le tertiaire, le résidentiel et une catégorie tiers.    \n",
    "Cette dernière contient toutes les consommations qui n'appartiennent pas aux quatre premiers secteurs.\n",
    "\n",
    "L'objectif du travail est de proposer une lecture synthétique de l'évolution de la comsommation électrique par secteur d'activité.   \n",
    "Chaque binôme aura en charge une région donnée."
   ]
  },
  {
   "cell_type": "markdown",
   "metadata": {},
   "source": [
    "### Les données que nous allons exploitées\n",
    "\n",
    "- [`donnee_elec_2011.csv`](donnee_elec_2011.csv) : la consommation électrique en France en 2011, par zone IRIS et par secteur d'activité\n",
    "- [`donnee_elec_2012.csv`](donnee_elec_2012.csv) : la consommation électrique en France en 2012, par zone IRIS et par secteur d'activité\n",
    "- [`donnee_elec_2013.csv`](donnee_elec_2013.csv) : la consommation électrique en France en 2013, par zone IRIS et par secteur d'activité\n",
    "- [`Liste_des_variables_electricite.pdf`](Liste_des_variables_electricite.pdf) : variables utilisées\n",
    "\n",
    "\n",
    "Visualiser les zones IRIS sur Geoportail [ici](https://www.geoportail.gouv.fr/donnees/iris)"
   ]
  },
  {
   "cell_type": "markdown",
   "metadata": {},
   "source": [
    ">**Activité 1 : lire un CSV dans un tableur**\n",
    ">\n",
    "> Ouvrez dans un **tableur** le fichier `donnee_elec_2011.csv` des consommations électriques en 2011.   \n",
    "> 1- comment sont rangées les données?  \n",
    "> 2- quelles informations trouve-t-on dans la première ligne?"
   ]
  },
  {
   "cell_type": "raw",
   "metadata": {},
   "source": [
    "Mes réponses :\n",
    "\n"
   ]
  },
  {
   "cell_type": "markdown",
   "metadata": {},
   "source": [
    ">**Activité 2 : lire un CSV dans un éditeur de texte**\n",
    ">\n",
    ">Ouvrez maintenant avec l'éditeur de texte **notepad++** le fichier `donnee_elec_2011.csv`.    \n",
    "> 3- comment se présente les données ?     \n",
    "> 4- quel symbole permet de séparer les différentes valeurs ?"
   ]
  },
  {
   "cell_type": "raw",
   "metadata": {},
   "source": [
    "Mes réponses :\n",
    "\n"
   ]
  },
  {
   "cell_type": "markdown",
   "metadata": {},
   "source": [
    "***\n",
    "# Que retenir sur le format CSV\n",
    "\n",
    "Le format **CSV** (**C**omma **S**eparated **V**alues) en français, « valeurs séparées par des virgules » est un format informatique ouvert qui permet de stocker les données d'un tableau. <u>Un fichier CSV est un fichier texte</u>.     \n",
    "Ce format est très facile à générer et à manipuler. Chaque ligne du fichier correspond à une ligne du tableau et les virgules correspondent aux séparations entre colonnes.\n",
    "\n",
    "Les portions de texte séparées par une virgule correspondent aux contenus des cellules.\n",
    "On peut très bien remplacer les virgules par des tabulations ou tout autre caractère.\n",
    "Ce format est utilisé pour échanger de manière interopérable des données de tableurs, bases de données, annuaires, etc ... entre logiciels différents et/ou plateformes différentes."
   ]
  }
 ],
 "metadata": {
  "kernelspec": {
   "display_name": "Python 3",
   "language": "python",
   "name": "python3"
  },
  "language_info": {
   "codemirror_mode": {
    "name": "ipython",
    "version": 3
   },
   "file_extension": ".py",
   "mimetype": "text/x-python",
   "name": "python",
   "nbconvert_exporter": "python",
   "pygments_lexer": "ipython3",
   "version": "3.7.3"
  }
 },
 "nbformat": 4,
 "nbformat_minor": 2
}
