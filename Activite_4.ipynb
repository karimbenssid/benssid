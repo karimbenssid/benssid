{
 "cells": [
  {
   "cell_type": "markdown",
   "metadata": {},
   "source": [
    "# Données en table, traitement et agrégation\n",
    "***\n",
    "# <u>Activité 4</u> - Traiter les données de consommation électrique"
   ]
  },
  {
   "cell_type": "markdown",
   "metadata": {},
   "source": [
    "|Thème|Durée|truc|\n",
    "|:---:|:----:|:----:|\n",
    "|résolution du problème|30min|à compléter|\n",
    "\n",
    "|Organisation du travail|\n",
    "|:-------------------------|\n",
    "|- concevoir une solution au problème|\n",
    "\n",
    "***"
   ]
  },
  {
   "cell_type": "markdown",
   "metadata": {},
   "source": [
    "\n",
    "***\n",
    "# Situation - Problème"
   ]
  },
  {
   "cell_type": "markdown",
   "metadata": {},
   "source": [
    "On s'interesse ici à la consommation d'électricité dans cinq secteurs : l'industrie, l'agriculture, le tertiaire, le résidentiel et une catégorie tiers.    \n",
    "Cette dernière contient toutes les consommations qui n'appartiennent pas aux quatre premiers secteurs.\n",
    "\n",
    "**Votre travail**\n",
    "\n",
    "Chaque groupe :\n",
    "- choisit une région de France\n",
    "- exploite les données de consommation électrique des trois années (2011, 2012 et 2013)\n",
    "- produit un dictionnaire suivant la structure proposée au-dessous\n"
   ]
  },
  {
   "cell_type": "markdown",
   "metadata": {},
   "source": [
    "**Mise en forme finale des données : un dictionnaire**\n",
    "````py\n",
    "def contruire_structure_pour_analyse(donnees 2011,donnees 2012,donnees 2012):\n",
    "    resultat = {}\n",
    "    resultat[\"SECTEUR1\"] = (donnees 2011,donnees 2012,donnees 2012)\n",
    "    resultat[\"SECTEUR2\"] = (donnees 2011,donnees 2012,donnees 2012)\n",
    "    #   ...\n",
    "    #   ... instruction ...\n",
    "    #   ...\n",
    "    return resultat\n",
    "    \n",
    "````"
   ]
  },
  {
   "cell_type": "markdown",
   "metadata": {},
   "source": [
    "**Mise en forme finale des données: la structure en image**\n",
    "<img src=\"rendu.png\" width=\"50%\"></img>"
   ]
  },
  {
   "cell_type": "markdown",
   "metadata": {},
   "source": [
    "# Les données à exploiter\n",
    "\n",
    "En ouvrant les fichiers à votre disposition dans un tableur, identifier les données qui concernent le département la Drome en France.\n",
    "\n",
    "Vous diposez de quatre fichiers : \n",
    "- [`donnee_elec_2011.csv`](donnee_elec_2011.csv) : la consommation électrique en France en 2011, par zone IRIS et par secteur d'activité\n",
    "- [`donnee_elec_2012.csv`](donnee_elec_2012.csv) : la consommation électrique en France en 2012, par zone IRIS et par secteur d'activité\n",
    "- [`donnee_elec_2013.csv`](donnee_elec_2013.csv) : la consommation électrique en France en 2013, par zone IRIS et par secteur d'activité\n",
    "\n",
    "\n",
    "Visualiser les zones IRIS sur Geoportail [ici](https://www.geoportail.gouv.fr/donnees/iris)\n"
   ]
  },
  {
   "cell_type": "markdown",
   "metadata": {},
   "source": [
    "# A vous de jouer !"
   ]
  },
  {
   "cell_type": "markdown",
   "metadata": {},
   "source": [
    "Indique les noms des membres du groupe :"
   ]
  },
  {
   "cell_type": "raw",
   "metadata": {},
   "source": [
    "Quelle région avez-vous choisis ? "
   ]
  },
  {
   "cell_type": "raw",
   "metadata": {},
   "source": [
    "Lister tous les départements de la région concernée :"
   ]
  },
  {
   "cell_type": "markdown",
   "metadata": {},
   "source": [
    ">**Coup de pouce n°1**     \n",
    ">Ecrire un script qui traite un fichier CSV et enregistre les entrées dans une liste.     \n",
    ">On améliore le script pour enregistrer seulement les lignes concernant les zones IRIS de la région choisie.\n",
    "\n",
    ">**Coup de pouce n°2**     \n",
    ">Organiser le travail du groupe pour traiter les trois fichiers (année 2011, 2012 et 2013)\n",
    "\n",
    ">**Coup de pouce n°3**      \n",
    ">Chaque secteur est une entrée du dictionnaire. Elles contiennent une liste de trois éléments.\n"
   ]
  },
  {
   "cell_type": "code",
   "execution_count": 1,
   "metadata": {},
   "outputs": [],
   "source": [
    "def diagramme(TTT):\n",
    "    import matplotlib.pyplot as plt \n",
    "    barWidth = 0.2\n",
    "    y1 = TTT['RESIDENT']\n",
    "    y2 = TTT['INDUSTRIE']\n",
    "    y3 = TTT['TERTIAIRE']\n",
    "    y4 = TTT['AGRICULTURE']\n",
    "    \n",
    "    r1 = range(len(y1))\n",
    "    r2 = [x + barWidth for x in r1]\n",
    "    r3 = [x + 2*barWidth for x in r1]\n",
    "    r4 = [x + 3*barWidth for x in r1]\n",
    "    \n",
    "    plt.bar(r1, y1, width = barWidth, color = ['yellow' for i in y1],\n",
    "               edgecolor = ['blue' for i in y1], linewidth = 2)\n",
    "    plt.bar(r2, y2, width = barWidth, color = ['pink' for i in y1],\n",
    "               edgecolor = ['green' for i in y1], linewidth = 2)\n",
    "    plt.bar(r3, y3, width = barWidth, color = ['green' for i in y1],\n",
    "               edgecolor = ['pink' for i in y1], linewidth = 2)\n",
    "    plt.bar(r4, y4, width = barWidth, color = ['blue' for i in y1],\n",
    "               edgecolor = ['yellow' for i in y1], linewidth = 2)\n",
    "    plt.gcf().set_size_inches(20, 15)   \n",
    "    return plt.xticks([r + barWidth / 4 for r in range(len(y1))], ['2011', '2012', '2013'], rotation=45) "
   ]
  },
  {
   "cell_type": "markdown",
   "metadata": {},
   "source": [
    "Visualise tes données à l'aide de la fonction diagramme au-dessus"
   ]
  },
  {
   "cell_type": "code",
   "execution_count": null,
   "metadata": {},
   "outputs": [],
   "source": []
  },
  {
   "cell_type": "markdown",
   "metadata": {},
   "source": [
    "## pour mémoire\n",
    "\n",
    "Le traitement des données permet de dresser des synthèses ou des représentations graphiques qui aident à la réflexion ou à l'analyse. \n",
    "Voici un exemple de traitement proposé par https://opendata.reseaux-energies.fr/. \n",
    "Cliquez sur le [lien](https://opendata.reseaux-energies.fr/chart/embed/?dataChart=eyJxdWVyaWVzIjpbeyJjaGFydHMiOlt7InR5cGUiOiJjb2x1bW4iLCJmdW5jIjoiU1VNIiwic2NpZW50aWZpY0Rpc3BsYXkiOnRydWUsImNvbG9yIjoicmFuZ2UtQWNjZW50IiwieUF4aXMiOiJjb25zb21tYXRpb25fYnJ1dGVfdG90YWxlIn1dLCJ4QXhpcyI6InJlZ2lvbiIsIm1heHBvaW50cyI6bnVsbCwic29ydCI6IiIsInRpbWVzY2FsZSI6IiIsInNlcmllc0JyZWFrZG93blRpbWVzY2FsZSI6IiIsInNlcmllc0JyZWFrZG93biI6ImFubmVlIiwiY29uZmlnIjp7ImRhdGFzZXQiOiJjb25zb21tYXRpb24tYW5udWVsbGUtYnJ1dGUtcmVnaW9uYWxlIiwib3B0aW9ucyI6eyJkaXNqdW5jdGl2ZS5yZWdpb24iOnRydWUsInNvcnQiOiItYW5uZWUiLCJ0aW1lem9uZSI6IkV1cm9wZS9CZXJsaW4ifX19XSwidGltZXNjYWxlIjoiIiwic2luZ2xlQXhpcyI6dHJ1ZSwiZGlzcGxheUxlZ2VuZCI6dHJ1ZSwiYWxpZ25Nb250aCI6dHJ1ZX0%3D) pour visualiser une mise en forme en diagramme."
   ]
  }
 ],
 "metadata": {
  "kernelspec": {
   "display_name": "Python 3",
   "language": "python",
   "name": "python3"
  },
  "language_info": {
   "codemirror_mode": {
    "name": "ipython",
    "version": 3
   },
   "file_extension": ".py",
   "mimetype": "text/x-python",
   "name": "python",
   "nbconvert_exporter": "python",
   "pygments_lexer": "ipython3",
   "version": "3.7.3"
  }
 },
 "nbformat": 4,
 "nbformat_minor": 2
}
