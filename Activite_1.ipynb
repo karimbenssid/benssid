{
 "cells": [
  {
   "cell_type": "markdown",
   "metadata": {},
   "source": [
    "# Données en table, traitement et agrégation\n",
    "***\n",
    "# Activité 1 - Open Data"
   ]
  },
  {
   "cell_type": "markdown",
   "metadata": {},
   "source": [
    "|Thème|Durée|truc|\n",
    "|:---:|:----:|:----:|\n",
    "|   Open Data   |10min|à compléter|\n",
    "\n",
    "|Organisation du travail|\n",
    "|:-------------------------|\n",
    "|- s'informer|\n",
    "|- résumer la lecture|  \n",
    "\n",
    "***"
   ]
  },
  {
   "cell_type": "markdown",
   "metadata": {},
   "source": [
    "## __Open Data__\n",
    "\n",
    "On trouve énormément de données sur internet. Une partie de ces données sont publiques, par exemple le site [data.gouv.fr](https://www.data.gouv.fr/fr/) recence un grand nombre de données publiques. \n",
    "Ces données sont librement réutilisables."
   ]
  },
  {
   "cell_type": "markdown",
   "metadata": {},
   "source": [
    ">**Activité 1 : s'informer**\n",
    ">\n",
    ">Afin de découvrir ce qu'est \"l'open data\", allez sur le site [data.gouv.fr](https://www.data.gouv.fr/fr/).     \n",
    ">Cliquez sur l'onglet **`Documentation`** en haut à gauche de la page.    \n",
    ">Résumez en quelques lignes ce que vous aurez appris sur cette page (une cellule est à votre disposition au-dessous)\n"
   ]
  },
  {
   "cell_type": "raw",
   "metadata": {},
   "source": [
    "Mon résumé :\n",
    "\n"
   ]
  }
 ],
 "metadata": {
  "kernelspec": {
   "display_name": "Python 3",
   "language": "python",
   "name": "python3"
  },
  "language_info": {
   "codemirror_mode": {
    "name": "ipython",
    "version": 3
   },
   "file_extension": ".py",
   "mimetype": "text/x-python",
   "name": "python",
   "nbconvert_exporter": "python",
   "pygments_lexer": "ipython3",
   "version": "3.7.3"
  }
 },
 "nbformat": 4,
 "nbformat_minor": 2
}
