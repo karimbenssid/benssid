{
 "cells": [
  {
   "cell_type": "markdown",
   "metadata": {},
   "source": [
    "# Données en table, traitement et agrégation\n",
    "***\n",
    "# Activité 3 - Traiter les données CSV avec des tableaux et Python"
   ]
  },
  {
   "cell_type": "markdown",
   "metadata": {},
   "source": [
    "|Thème|Durée|truc|\n",
    "|:---:|:----:|:----:|\n",
    "|traiter des fichiers CSV|30min|à compléter|\n",
    "\n",
    "|Organisation du travail|\n",
    "|:-------------------------|\n",
    "|- remplir un tableau en python depuis un fichier CSV|\n",
    "|- faire un tri sur les données|\n",
    "|- traiter des données|\n",
    "\n",
    "***"
   ]
  },
  {
   "cell_type": "markdown",
   "metadata": {},
   "source": [
    "***\n",
    "# Lire des données depuis un fichier CSV\n",
    "\n",
    "Le format **CSV** (**C**omma **S**eparated **V**alues) en français, « valeurs séparées par des virgules » est un format informatique ouvert qui permet de stocker les données d'un tableau. <u>Un fichier CSV est un fichier texte</u>.     \n",
    "Ce format est très facile à générer et à manipuler. Chaque ligne du fichier correspond à une ligne du tableau et les virgules correspondent aux séparations entre colonnes.\n",
    "\n",
    "Les portions de texte séparées par une virgule correspondent aux contenus des cellules.\n",
    "On peut très bien remplacer les virgules par des tabulations ou tout autre caractère.\n",
    "Ce format est utilisé pour échanger de manière interopérable des données de tableurs, bases de données, annuaires, etc ... entre logiciels différents et/ou plateformes différentes."
   ]
  },
  {
   "cell_type": "markdown",
   "metadata": {},
   "source": [
    "**Script en langage python** \n",
    "\n",
    "Pour découvrir les commandes, nous nous servons d'un fichier csv simple enregistré dans le dossier courant du notebook.    \n",
    "Il s'agit ici d'ouvrir le fichier `exemple1.csv`. A l'aide d'une boucle `for`, on affiche dans la console chaque ligne de texte contenue dans le fichier."
   ]
  },
  {
   "cell_type": "code",
   "execution_count": 5,
   "metadata": {},
   "outputs": [
    {
     "name": "stdout",
     "output_type": "stream",
     "text": [
      "Nom,Prenom,Date_Naissance\n",
      "\n",
      "Dupont,Catherine,17/06/2001\n",
      "\n",
      "Durand,Herve,11/04/1975\n",
      "\n",
      "Tremblant,Julie,06/04/2005\n",
      "\n",
      "Martin,François,11/12/1998\n",
      "\n"
     ]
    }
   ],
   "source": [
    "f=open('exemple1.csv','r')        # copie le texte dans la variable f\n",
    "\n",
    "for ligne in f :            \n",
    "    print(ligne)                  # lit la ligne suivante et la stocke dans la variable ligne\n",
    "    \n",
    "f.close()"
   ]
  },
  {
   "cell_type": "markdown",
   "metadata": {},
   "source": [
    ">>**Remarque pour l'enseignant**     \n",
    ">>Pour le parcours de f, il y a deux possibilités à bien distinguer :\n",
    ">>- soit on réalise le parcours avec l'instruction ```ligne= f.readligne()```     \n",
    ">>- soit on réalise le parcours avec ```py for ligne in f: ```\n",
    ">>\n",
    ">>Mais il ne faut pas combiner les deux, au risque de sauter une ligne systématiquement."
   ]
  },
  {
   "cell_type": "code",
   "execution_count": 2,
   "metadata": {},
   "outputs": [
    {
     "data": {
      "text/plain": [
       "(_io.TextIOWrapper, str)"
      ]
     },
     "execution_count": 2,
     "metadata": {},
     "output_type": "execute_result"
    }
   ],
   "source": [
    "type(f),type(ligne)"
   ]
  },
  {
   "cell_type": "markdown",
   "metadata": {},
   "source": [
    "**Des commandes utiles en python pour utiliser un fichier**     \n",
    ">Ouverture en lecture : \n",
    "```py \n",
    "f = open('nom.txt','r')\n",
    "```    \n",
    ">Ouverture en écriture : \n",
    "```py \n",
    "g = open('nom.txt','w') \n",
    "``` \n",
    ">Fermeture : \n",
    "```py \n",
    "f.close()     \n",
    "``` \n",
    ">Ouverture et fermeture avec une structure de bloc : \n",
    "```py \n",
    "with open('nom.txt','r') as f :  \n",
    "``` \n",
    ">Lire la ligne suivante : \n",
    "```py \n",
    "ligne = f.readline()\n",
    "```   \n",
    ">Parcourir toutes les lignes :\n",
    "```py \n",
    "for ligne in f:\n",
    "```\n",
    ">Écrire dans le fichier :\n",
    "```py \n",
    "g.write('message')\n",
    "```\n",
    ">Écrire dans le fichier avec passage à la ligne :\n",
    "```py \n",
    "g.write('message\\n')\n",
    "```\n",
    "\n",
    "***"
   ]
  },
  {
   "cell_type": "markdown",
   "metadata": {},
   "source": [
    "# Manipuler un fichier CSV simple\n",
    "\n",
    "Un peu de pratique est nécessaire avant de traiter les données de consommation électrique.     \n",
    "Pour les trois exercices qui suivent, nous utiliserons un fichier .csv plus simple : `data.csv`"
   ]
  },
  {
   "cell_type": "markdown",
   "metadata": {},
   "source": [
    "> **Exercice 1 : remplir une liste depuis un fichier csv**\n",
    ">\n",
    "> Ecris un programme qui \"lit\" le fichier `data.csv` et ajoute chaque ligne dans une liste, notée L.    \n",
    "> On souhaite seulement conserver les lignes contenant des valeurs, pas leurs entêtes"
   ]
  },
  {
   "cell_type": "raw",
   "metadata": {},
   "source": [
    "Identifie le symbole séparant les données dans le fichier data.csv :  \n"
   ]
  },
  {
   "cell_type": "code",
   "execution_count": 4,
   "metadata": {},
   "outputs": [
    {
     "name": "stdout",
     "output_type": "stream",
     "text": [
      "[['Nom', 'Prénom', 'Année de naissance', 'Note en français', 'Note en maths\\n'], ['Vega', 'Maurice', '2001', '11', '20\\n'], ['Malot', 'Brigitte', '2002', '13', '11\\n'], ['Dutendas', 'Fabien', '2002', '8', '13\\n'], ['Le Grand', 'Pauline', '2001', '18', '9\\n'], ['Prava', 'Emma', '2001', '12', '7\\n'], ['Tupin', 'Roger', '2001', '9', '14\\n']]\n"
     ]
    }
   ],
   "source": [
    "L=[]\n",
    "f=open('data.csv','r',encoding=\"utf-8\")\n",
    "\n",
    "for ligne in f :\n",
    "    L.append(ligne.split(\":\"))          # plutôt qu'afficher, on ajoute chaque ligne à la liste L      \n",
    "    \n",
    "f.close()\n",
    "print(L)"
   ]
  },
  {
   "cell_type": "markdown",
   "metadata": {},
   "source": [
    "faire un choix explicite"
   ]
  },
  {
   "cell_type": "markdown",
   "metadata": {},
   "source": [
    "> **Exercice 2**\n",
    ">\n",
    "> Ecris une fonction :\n",
    "- recevant en argument le nom d'un fichier .csv\n",
    "- et retournant une liste dont les éléments correspondent aux lignes du fichier .csv  \n",
    ">\n",
    "> Teste la fonction sur le fichier data.csv ou exemple1.csv"
   ]
  },
  {
   "cell_type": "code",
   "execution_count": null,
   "metadata": {},
   "outputs": [],
   "source": [
    "def lireCSV(fichier):\n",
    "    L=[]\n",
    "    f=open(fichier,'r')\n",
    "    for ligne in f :\n",
    "        L.append(ligne.split(\":\")) \n",
    "    f.close()\n",
    "    return L[1:len(L)]\n",
    "\n",
    "print(lireCSV('data.csv'))"
   ]
  },
  {
   "cell_type": "markdown",
   "metadata": {},
   "source": [
    "> **Exercice 3 : filtrer les éléments d'une liste**\n",
    ">\n",
    "> On souhaite extraire de la liste L les personnes nées en 2001, ainsi que les informations les concernant.    \n",
    "> Ecrire un programme qui retourne une liste l contenant seulement les lignes concernant les personnes nées en 2001.\n",
    ">"
   ]
  },
  {
   "cell_type": "code",
   "execution_count": null,
   "metadata": {},
   "outputs": [],
   "source": [
    "L=[]\n",
    "f=open('data.csv','r')\n",
    "for ligne in f :\n",
    "    l=ligne.split(\":\")\n",
    "    if l[2]=='2001':     # on teste la troisième \"colonne\" et on n'ajoute à la liste que celle égale à 2001\n",
    "        L.append(l) \n",
    "f.close()\n",
    "\n",
    "print(L[1:len(L)])"
   ]
  },
  {
   "cell_type": "markdown",
   "metadata": {},
   "source": [
    "> **Exercice 4**\n",
    ">\n",
    "> Ecris une fonction :\n",
    "- recevant une liste L, le numéro du champ et une condition `cond` à tester\n",
    "- et retournant une liste constituée de tous les éléments de L vérifiant la condition `cond`\n",
    ">"
   ]
  },
  {
   "cell_type": "code",
   "execution_count": null,
   "metadata": {},
   "outputs": [],
   "source": [
    "def filtrerCSV(fichier,numero,cle):\n",
    "    L=[]\n",
    "    f=open(fichier,'r')\n",
    "    for ligne in f :\n",
    "        l=ligne.split(\":\")\n",
    "        if l[numero-1]==cle:\n",
    "            L.append(l) \n",
    "    f.close()\n",
    "    return L[1:len(L)]\n",
    "\n",
    "print(filtrerCSV('data.csv',3,'2001'))"
   ]
  },
  {
   "cell_type": "markdown",
   "metadata": {},
   "source": [
    "> **Exercice 5**\n",
    ">\n",
    "> Calcule la note moyenne obtenue en français par les personnes nées en 2001\n",
    ">"
   ]
  },
  {
   "cell_type": "code",
   "execution_count": null,
   "metadata": {},
   "outputs": [],
   "source": [
    "L=filtrerCSV('data.csv',3,'2001')\n",
    "n=len(L)\n",
    "Somme=0\n",
    "for i in range(n):\n",
    "    Somme=Somme+int(L[i][3])\n",
    "print(Somme/n)"
   ]
  }
 ],
 "metadata": {
  "kernelspec": {
   "display_name": "Python 3",
   "language": "python",
   "name": "python3"
  },
  "language_info": {
   "codemirror_mode": {
    "name": "ipython",
    "version": 3
   },
   "file_extension": ".py",
   "mimetype": "text/x-python",
   "name": "python",
   "nbconvert_exporter": "python",
   "pygments_lexer": "ipython3",
   "version": "3.7.3"
  }
 },
 "nbformat": 4,
 "nbformat_minor": 2
}
